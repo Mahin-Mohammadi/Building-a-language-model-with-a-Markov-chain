{
  "nbformat": 4,
  "nbformat_minor": 0,
  "metadata": {
    "colab": {
      "provenance": []
    },
    "kernelspec": {
      "name": "python3",
      "display_name": "Python 3"
    },
    "language_info": {
      "name": "python"
    }
  },
  "cells": [
    {
      "cell_type": "code",
      "execution_count": null,
      "metadata": {
        "id": "ndgJJXDaK1VA"
      },
      "outputs": [],
      "source": [
        "import random\n",
        "\n",
        "def build_markov_chain(text, n):\n",
        "    chain = {}\n",
        "    words = text.split()\n",
        "\n",
        "    for i in range(len(words)-n):\n",
        "        ngram = tuple(words[i:i+n])\n",
        "        next_word = words[i+n]\n",
        "        if ngram in chain:\n",
        "            chain[ngram].append(next_word)\n",
        "        else:\n",
        "            chain[ngram] = [next_word]\n",
        "\n",
        "    return chain\n",
        "\n",
        "def generate_text(chain, n, length=50):\n",
        "    start = random.choice(list(chain.keys()))\n",
        "    current = start\n",
        "    output = list(current)\n",
        "\n",
        "    for _ in range(length):\n",
        "        if current in chain:\n",
        "            next_word = random.choice(chain[current])\n",
        "            output.append(next_word)\n",
        "            current = tuple(output[-n:])\n",
        "        else:\n",
        "            break\n",
        "\n",
        "    return ' '.join(output)\n",
        "\n",
        "# Example Usage\n",
        "text_data = \"The weather is fine today...\"\n",
        "markov_chain = build_markov_chain(text_data, 2)  # Adjust n for different n-grams\n",
        "generated_text = generate_text(markov_chain, 2, length=100)  # Set desired text length\n",
        "\n",
        "print(generated_text)\n"
      ]
    }
  ]
}